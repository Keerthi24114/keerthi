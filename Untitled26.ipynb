{
  "metadata": {
    "kernelspec": {
      "name": "python",
      "display_name": "Python (Pyodide)",
      "language": "python"
    },
    "language_info": {
      "codemirror_mode": {
        "name": "python",
        "version": 3
      },
      "file_extension": ".py",
      "mimetype": "text/x-python",
      "name": "python",
      "nbconvert_exporter": "python",
      "pygments_lexer": "ipython3",
      "version": "3.8"
    }
  },
  "nbformat_minor": 4,
  "nbformat": 4,
  "cells": [
    {
      "cell_type": "code",
      "source": "def inser_sort(list1):\n    for i in range(1,len(list1)):\n        a=list1[i]\n        j=i-1\n        while j>=0 and a<list1[j]:\n            list1[j+1]=list1[j]\n            j-=1\n        list1[j+1]=a\n    return list1\nlist1=[4,2,7,9,1]\nprint(\"the un:\",list1)\nprint(\"the sorted:\",inser_sort(list1))\n",
      "metadata": {
        "trusted": true
      },
      "outputs": [
        {
          "name": "stdout",
          "text": "the un: [4, 2, 7, 9, 1]\nthe sorted: [1, 2, 4, 7, 9]\n",
          "output_type": "stream"
        }
      ],
      "execution_count": 7
    },
    {
      "cell_type": "code",
      "source": "def insertion_sort(list1): \n\t\t# Outer loop to traverse on len(list1) \n\t\tfor i in range(1, len(list1)): \n\t\t\ta = list1[i] \n\t\t\t# Move elements of list1[0 to i-1], \n\t\t\t# which are greater to one position\n\t\t\t# ahead of their current position \n\t\t\tj = i - 1\n\t\t\n\t\t\twhile j >= 0 and a < list1[j]: \n\t\t\t\tlist1[j + 1] = list1[j] \n\t\t\t\tj -= 1\n\t\t\tlist1[j + 1] = a \n\t\treturn list1 \t\t\n# Driver code\nlist1 = [ 7, 2, 1, 6 ] \nprint(\"The unsorted list is:\", list1) \nprint(\"The sorted new list is:\", insertion_sort(list1))\n",
      "metadata": {
        "trusted": true
      },
      "outputs": [
        {
          "name": "stdout",
          "text": "The unsorted list is: [7, 2, 1, 6]\nThe sorted new list is: [1, 2, 6, 7]\n",
          "output_type": "stream"
        }
      ],
      "execution_count": 6
    },
    {
      "cell_type": "code",
      "source": "def inser_sort(list1):\n    for i in range(1,len(list1)):\n        a=list1[i]\n        j=i-1\n        while j>=0 and a<list1[j]:\n            list1[j+1]=list1[j]\n            j-=1\n        list1[j+1]=a\n    return list1\n            ",
      "metadata": {
        "trusted": true
      },
      "outputs": [
        {
          "ename": "<class 'SyntaxError'>",
          "evalue": "incomplete input (<ipython-input-8-bbc93dff6e13>, line 5)",
          "traceback": [
            "\u001b[0;36m  Cell \u001b[0;32mIn[8], line 5\u001b[0;36m\u001b[0m\n\u001b[0;31m    while j>=0 and a<list1[j]:\u001b[0m\n\u001b[0m                              ^\u001b[0m\n\u001b[0;31mSyntaxError\u001b[0m\u001b[0;31m:\u001b[0m incomplete input\n"
          ],
          "output_type": "error"
        }
      ],
      "execution_count": 8
    },
    {
      "cell_type": "code",
      "source": "def insert_sort_linear(arr,key):\n    for i in range(1,len(arr)):\n        a=arr[i]\n        j=i-1\n        while j>=0 and a<arr[j]:\n            arr[j+1]=arr[j]\n            j-=1\n        arr[j+1]=a\n        pos=-1\n        for i in range(i+1):\n            if (arr[i]==key):\n                return i\narr=[40,10,20,50,30]\ninsert_sort_linear(arr,30)\nprint(\"the sorted:\",arr)\nprint(\"element:\",pos)\n    ",
      "metadata": {
        "trusted": true
      },
      "outputs": [
        {
          "name": "stdout",
          "text": "the sorted: [10, 20, 30, 40, 50]\n",
          "output_type": "stream"
        },
        {
          "ename": "<class 'NameError'>",
          "evalue": "name 'pos' is not defined",
          "traceback": [
            "\u001b[0;31m---------------------------------------------------------------------------\u001b[0m",
            "\u001b[0;31mNameError\u001b[0m                                 Traceback (most recent call last)",
            "Cell \u001b[0;32mIn[14], line 16\u001b[0m\n\u001b[1;32m     14\u001b[0m insert_sort_linear(arr,\u001b[38;5;241m30\u001b[39m)\n\u001b[1;32m     15\u001b[0m \u001b[38;5;28mprint\u001b[39m(\u001b[38;5;124m\"\u001b[39m\u001b[38;5;124mthe sorted:\u001b[39m\u001b[38;5;124m\"\u001b[39m,arr)\n\u001b[0;32m---> 16\u001b[0m \u001b[38;5;28mprint\u001b[39m(\u001b[38;5;124m\"\u001b[39m\u001b[38;5;124melement:\u001b[39m\u001b[38;5;124m\"\u001b[39m,\u001b[43mpos\u001b[49m)\n",
            "\u001b[0;31mNameError\u001b[0m: name 'pos' is not defined"
          ],
          "output_type": "error"
        }
      ],
      "execution_count": 14
    },
    {
      "cell_type": "code",
      "source": "",
      "metadata": {
        "trusted": true
      },
      "outputs": [],
      "execution_count": null
    }
  ]
}