{
  "metadata": {
    "kernelspec": {
      "name": "python",
      "display_name": "Python (Pyodide)",
      "language": "python"
    },
    "language_info": {
      "codemirror_mode": {
        "name": "python",
        "version": 3
      },
      "file_extension": ".py",
      "mimetype": "text/x-python",
      "name": "python",
      "nbconvert_exporter": "python",
      "pygments_lexer": "ipython3",
      "version": "3.8"
    }
  },
  "nbformat_minor": 4,
  "nbformat": 4,
  "cells": [
    {
      "cell_type": "code",
      "source": "def factorial(n):\n    if n==1 or n==0:\n        return n\n    else:\n        return n*factorial(n-1)\nprint(factorial(6))",
      "metadata": {
        "trusted": true
      },
      "outputs": [
        {
          "name": "stdout",
          "text": "720\n",
          "output_type": "stream"
        }
      ],
      "execution_count": 1
    },
    {
      "cell_type": "code",
      "source": "def fib(n):\n    if n<=1:\n        return n\n    else:   \n        return fib(n-1)+fib(n-2)\nprint(fib(6))",
      "metadata": {
        "trusted": true
      },
      "outputs": [
        {
          "name": "stdout",
          "text": "8\n",
          "output_type": "stream"
        }
      ],
      "execution_count": 9
    },
    {
      "cell_type": "code",
      "source": "def sum_of_natural_num(n):\n    if n==1:\n        return n\n    else:\n        return n+sum_of_natural_num(n-1)\nprint(sum_of_natural_num(6))",
      "metadata": {
        "trusted": true
      },
      "outputs": [
        {
          "name": "stdout",
          "text": "21\n",
          "output_type": "stream"
        }
      ],
      "execution_count": 11
    },
    {
      "cell_type": "code",
      "source": "def palindrome(n):\n    if len(n)<=1:\n        return True\n    if n[0]!=n[-1]:\n        return False\n    else:\n        return palindrome(n[1:-1])\nprint(palindrome(\"madam\"))\n    \n    ",
      "metadata": {
        "trusted": true
      },
      "outputs": [
        {
          "name": "stdout",
          "text": "True\n",
          "output_type": "stream"
        }
      ],
      "execution_count": 23
    },
    {
      "cell_type": "code",
      "source": "def palindrome(n):\n    if len(n)<=0:\n        return True\n    if n[0]!=n[-1]:\n        return False\n    else:\n        return palindrome(n[1:-1])\nprint(palindrome(\"keerthi\"))",
      "metadata": {
        "trusted": true
      },
      "outputs": [
        {
          "name": "stdout",
          "text": "False\n",
          "output_type": "stream"
        }
      ],
      "execution_count": 25
    },
    {
      "cell_type": "code",
      "source": "def power(x,y):\n    if y==0:\n        return 1 \n    else:\n        return x*power(x,y-1)\nprint(power(2,3))",
      "metadata": {
        "trusted": true
      },
      "outputs": [
        {
          "name": "stdout",
          "text": "8\n",
          "output_type": "stream"
        }
      ],
      "execution_count": 29
    },
    {
      "cell_type": "code",
      "source": "def power(x,y):\n    if y==0:\n        return 1\n    else:\n        return x*power(x,y-1)\nprint(power(5,6))",
      "metadata": {
        "trusted": true
      },
      "outputs": [
        {
          "name": "stdout",
          "text": "15625\n",
          "output_type": "stream"
        }
      ],
      "execution_count": 30
    },
    {
      "cell_type": "code",
      "source": "def gcd(a,b):\n    if b==0:\n        return a\n    return gcd(b,a%b)\nprint(gcd(48,18))",
      "metadata": {
        "trusted": true
      },
      "outputs": [
        {
          "name": "stdout",
          "text": "6\n",
          "output_type": "stream"
        }
      ],
      "execution_count": 37
    },
    {
      "cell_type": "code",
      "source": "def binary(n):\n    if n==0:\n        return \"\"\n    else:\n        return binary(n//2)+str(n%2)\nprint(binary(9))",
      "metadata": {
        "trusted": true
      },
      "outputs": [
        {
          "name": "stdout",
          "text": "1001\n",
          "output_type": "stream"
        }
      ],
      "execution_count": 38
    },
    {
      "cell_type": "code",
      "source": "def rev_str(n):\n    if len(n)==0:\n        return \"\"\n    else:\n        return n[-1]+rev_str(n[:-1])\nprint(rev_str(\"hello\"))",
      "metadata": {
        "trusted": true
      },
      "outputs": [
        {
          "name": "stdout",
          "text": "olleh\n",
          "output_type": "stream"
        }
      ],
      "execution_count": 42
    },
    {
      "cell_type": "code",
      "source": "def sum_of_dig(n):\n    if n==0:\n        return 0\n    else:\n        return (n%10)+sum_of_dig(n//10)\nprint(sum_of_dig(9))\n",
      "metadata": {
        "trusted": true
      },
      "outputs": [
        {
          "name": "stdout",
          "text": "9\n",
          "output_type": "stream"
        }
      ],
      "execution_count": 43
    },
    {
      "cell_type": "code",
      "source": "def prd_array(arr,n):\n    if n==0:\n        return arr[0]\n    else:\n        return arr[n]*prd_array(arr,n-1)\nprint(prd_array([1,2,3,4],3))",
      "metadata": {
        "trusted": true
      },
      "outputs": [
        {
          "name": "stdout",
          "text": "24\n",
          "output_type": "stream"
        }
      ],
      "execution_count": 47
    },
    {
      "cell_type": "code",
      "source": "def sort(arr,n):\n    if n==1:\n        return True\n    else:\n        return arr[n-1]>=arr[n-2] and sort(arr,n-1)\nprint(sort([1,2,3,4],4))",
      "metadata": {
        "trusted": true
      },
      "outputs": [
        {
          "name": "stdout",
          "text": "True\n",
          "output_type": "stream"
        }
      ],
      "execution_count": 53
    },
    {
      "cell_type": "code",
      "source": "",
      "metadata": {
        "trusted": true
      },
      "outputs": [],
      "execution_count": null
    },
    {
      "cell_type": "code",
      "source": "",
      "metadata": {
        "trusted": true
      },
      "outputs": [],
      "execution_count": null
    }
  ]
}