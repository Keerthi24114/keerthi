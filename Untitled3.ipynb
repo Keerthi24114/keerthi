{
  "metadata": {
    "kernelspec": {
      "name": "python",
      "display_name": "Python (Pyodide)",
      "language": "python"
    },
    "language_info": {
      "codemirror_mode": {
        "name": "python",
        "version": 3
      },
      "file_extension": ".py",
      "mimetype": "text/x-python",
      "name": "python",
      "nbconvert_exporter": "python",
      "pygments_lexer": "ipython3",
      "version": "3.8"
    }
  },
  "nbformat_minor": 4,
  "nbformat": 4,
  "cells": [
    {
      "cell_type": "code",
      "source": "a=[[2,1],[3,4]]\nb=[[1,9],[5,7]]\nr=[[0,0],[0,0]]\nfor i in range(len(a)):\n    for j in range (len(a[0])):\n       r[i][j]= a[i][j]+b[i][j]\nprint(r)",
      "metadata": {
        "trusted": true
      },
      "outputs": [
        {
          "name": "stdout",
          "text": "[[3, 10], [8, 11]]\n",
          "output_type": "stream"
        }
      ],
      "execution_count": 6
    },
    {
      "cell_type": "code",
      "source": "a=[[1,2,3],[4,5,6]]\nb=[[7,8,9],[9,8,7]]\nr=[[0,0,0],[0,0,0]]\nfor i in range(len(b)):\n    for j in range(len(b[0])):\n        r[i][j]=a[i][j]+b[i][j]\nprint(r)",
      "metadata": {
        "trusted": true
      },
      "outputs": [
        {
          "name": "stdout",
          "text": "[[8, 10, 12], [13, 13, 13]]\n",
          "output_type": "stream"
        }
      ],
      "execution_count": 9
    },
    {
      "cell_type": "code",
      "source": "a=[[1,2,3]]\nr=5\nfor i in range(len(a)):\n    for j in range(len(a[0])):\n        a[i][j]=r*a[i][j]\nprint(a)",
      "metadata": {
        "trusted": true
      },
      "outputs": [
        {
          "name": "stdout",
          "text": "[[5, 10, 15]]\n",
          "output_type": "stream"
        }
      ],
      "execution_count": 13
    },
    {
      "cell_type": "code",
      "source": "a=[[1,2,3],[4,5,6]]\nb=[[3,2,1],[6,5,4]]\nr=[[0,0,0],[0,0,0]]\nfor i in range(len(a)):\n    for j in range(len(a[0])):\n        r[i][j]= a[i][j]*b[i][j]\nprint(r)",
      "metadata": {
        "trusted": true
      },
      "outputs": [
        {
          "name": "stdout",
          "text": "[[3, 4, 3], [24, 25, 24]]\n",
          "output_type": "stream"
        }
      ],
      "execution_count": 18
    },
    {
      "cell_type": "code",
      "source": "a=[[2,3]]\nT=[[0],[0]]\nfor i in range(len(a[0])):\n    for j in range(len(a)):\n        T[i][j]=a[j][i]\nprint(T)\n      ",
      "metadata": {
        "trusted": true
      },
      "outputs": [
        {
          "name": "stdout",
          "text": "[[2], [3]]\n",
          "output_type": "stream"
        }
      ],
      "execution_count": 21
    },
    {
      "cell_type": "code",
      "source": "a=[[1,2],[3,4]]\nt=[[0,0],[0,0]]\nfor i in range(len(a[0])):\n    for j in range(len(a)):\n        t[i][j]=a[j][i]\nprint(t)",
      "metadata": {
        "trusted": true
      },
      "outputs": [
        {
          "name": "stdout",
          "text": "[[1, 3], [2, 4]]\n",
          "output_type": "stream"
        }
      ],
      "execution_count": 22
    },
    {
      "cell_type": "code",
      "source": "",
      "metadata": {
        "trusted": true
      },
      "outputs": [],
      "execution_count": null
    }
  ]
}