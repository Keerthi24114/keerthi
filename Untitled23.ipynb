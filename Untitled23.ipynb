{
  "metadata": {
    "kernelspec": {
      "name": "python",
      "display_name": "Python (Pyodide)",
      "language": "python"
    },
    "language_info": {
      "codemirror_mode": {
        "name": "python",
        "version": 3
      },
      "file_extension": ".py",
      "mimetype": "text/x-python",
      "name": "python",
      "nbconvert_exporter": "python",
      "pygments_lexer": "ipython3",
      "version": "3.8"
    }
  },
  "nbformat_minor": 4,
  "nbformat": 4,
  "cells": [
    {
      "cell_type": "code",
      "source": "def linear_Search(list1, n, key):\n    for i in range(0, n):\n        if(list[i] == key):\n            return i\n    return -1\nlist1 = [1, 3, 5, 4, 7, 9]\nkey = 3\nn = len(list1)\nres = linear_Search(list1, n, key)\nif (res == -1):\n    print(\" Element not found\")\nelse:\n    print(\"Element fount at index:\" , res)\n\n",
      "metadata": {
        "trusted": true
      },
      "outputs": [
        {
          "name": "stdout",
          "text": " Element not found\n",
          "output_type": "stream"
        }
      ],
      "execution_count": 13
    },
    {
      "cell_type": "code",
      "source": "def linear_Search(list1, n, key):  \n      # Searching list1 sequentially  \n    for i in range(0, n):  \n        if (list1[i] == key):  \n            return i  \n    return -1  \nlist1 = [1 ,3, 5, 4, 7, 9]  \nkey = 3 \nn = len(list1)  \nres = linear_Search(list1, n, key)  \nif(res == -1):  \n    print(\"Element not found\")  \nelse:  \n    print(\"Element found at index: \", res)  \n",
      "metadata": {
        "trusted": true
      },
      "outputs": [
        {
          "name": "stdout",
          "text": "Element found at index:  1\n",
          "output_type": "stream"
        }
      ],
      "execution_count": 11
    },
    {
      "cell_type": "code",
      "source": "def linear_search(list1,n,key):\n    for i in range(0,n):\n        if (list1[i]==key):\n            return i\n    return -1\nlist1=[1,2,3,4,7,8]\nkey=3\nn=len(list1)\nres=linear_search(list1,n,key)\nif (res==-1):\n    print(\"element is not found\")\nelse:\n    print(\"found:\",res)",
      "metadata": {
        "trusted": true
      },
      "outputs": [
        {
          "name": "stdout",
          "text": "found: 2\n",
          "output_type": "stream"
        }
      ],
      "execution_count": 17
    },
    {
      "cell_type": "code",
      "source": "def binary_search(arr,high,low,x):\n    if high>=low:\n        mid =(high+low)//2\n        if arr[mid]==x:\n            return mid\n        elif arr[mid]>=x:\n            return binary_search(arr,mid-1,low,x)\n        elif arr[mid]<=x:\n            return binary_search(arr,high,mid+1,x)\n        else:\n            return -1\narr=[2,3,4,5,6]\nx=3\nres=binary_search(arr,len(arr)-1,0,x)\nif (res==-1):\n    print(\"not found\")\nelse:\n    print(\"found:\",res)\n        \n        \n        \n        ",
      "metadata": {
        "trusted": true
      },
      "outputs": [
        {
          "name": "stdout",
          "text": "found: 1\n",
          "output_type": "stream"
        }
      ],
      "execution_count": 19
    },
    {
      "cell_type": "code",
      "source": "def binary_search(arr,high,low,x):\n    if high>=low:\n        mid=(high+low)//2\n        if arr[mid]==x:\n            return mid\n        elif mid[arr]<x:\n            return binary_search(arr,high,mid+1,x)\n        elif arr[mid]>x:\n            return binary_search(arr,mid-1,low,x)\n        else:\n            return -1\narr=[2,4,5,7,8,9]\nx=5\nres=binary_search(arr,len(arr)-1,0,x)\nif (res==-1):\n    print(\"element\")\nelse:\n    print(\"found:\",res)",
      "metadata": {
        "trusted": true
      },
      "outputs": [
        {
          "name": "stdout",
          "text": "found: 2\n",
          "output_type": "stream"
        }
      ],
      "execution_count": 24
    },
    {
      "cell_type": "code",
      "source": "def binary_search(arr,high,low,x):\n    while high>=low:\n        mid=(high+low)//2\n        if arr[mid]==x:\n            return mid\n        elif arr[mid]>x:\n            return binary_search(arr,mid-1,low,x)\n        elif arr[mid]<x:\n            return binary_search(arr,high,mid+1,x)\n        else:\n            return -1\narr=[2,5,7,8,6]\nx=0\nres=binary_search(arr,len(arr)-1,0,x)\nif (res==-1):\n    print(\"not\")\nelse:\n    print(\"found:\",res)\n        ",
      "metadata": {
        "trusted": true
      },
      "outputs": [
        {
          "name": "stdout",
          "text": "found: None\n",
          "output_type": "stream"
        }
      ],
      "execution_count": 26
    },
    {
      "cell_type": "code",
      "source": "def binary_search(arr,x):\n    low=0\n    high=len(arr)-1\n    mid=0\n    while high>=low:\n        mid=(high+low)//2\n        if arr[mid]>x:\n            high=mid-1\n        elif arr[mid]<x:\n            low=mid+1\n        elif arr[mid]==x:\n            return mid\n        else:\n            return -1\narr=[2,3,5,6,8,0]\nx=8\nres=binary_search(arr,x)\nif (res==-1):\n    print(\"not\")\nelse:\n    print(\"found:\",res)\n        ",
      "metadata": {
        "trusted": true
      },
      "outputs": [
        {
          "name": "stdout",
          "text": "found: 4\n",
          "output_type": "stream"
        }
      ],
      "execution_count": 32
    },
    {
      "cell_type": "code",
      "source": "def sortedarray(arr,size):\n    for s in range(size):\n        min_idx=s\n        for i in range(s+1,size):\n            if arr[i]<arr[min_idx]:\n                min_idx=i\n        (arr[s],arr[min_idx])=(arr[min_idx],arr[s])\narr=[9,2,4,8]\nsize=len(arr)\nsortedarray(arr,size)\nprint(\"sorted array:\")\nprint(arr)\n            ",
      "metadata": {
        "trusted": true
      },
      "outputs": [
        {
          "name": "stdout",
          "text": "sorted array:\n[2, 4, 8, 9]\n",
          "output_type": "stream"
        }
      ],
      "execution_count": 40
    },
    {
      "cell_type": "code",
      "source": "def sortedarray(arr,size):\n    for s in range(size):\n        min_idx=s\n        for i in range(s+1,size):\n            if arr[i]<arr[min_idx]:\n                min_idx=i\n        (arr[s],arr[min_idx])=(arr[min_idx],arr[s])\narr=[9,2,7,5]\nsize=len(arr)\nsortedarray(arr,size)\nprint(\"sorted array:\")\nprint(arr)\n",
      "metadata": {
        "trusted": true
      },
      "outputs": [
        {
          "name": "stdout",
          "text": "sorted array:\n[2, 5, 7, 9]\n",
          "output_type": "stream"
        }
      ],
      "execution_count": 47
    },
    {
      "cell_type": "code",
      "source": "",
      "metadata": {
        "trusted": true
      },
      "outputs": [],
      "execution_count": null
    },
    {
      "cell_type": "code",
      "source": "",
      "metadata": {
        "trusted": true
      },
      "outputs": [],
      "execution_count": null
    }
  ]
}