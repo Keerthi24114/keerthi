{
  "metadata": {
    "kernelspec": {
      "name": "python",
      "display_name": "Python (Pyodide)",
      "language": "python"
    },
    "language_info": {
      "codemirror_mode": {
        "name": "python",
        "version": 3
      },
      "file_extension": ".py",
      "mimetype": "text/x-python",
      "name": "python",
      "nbconvert_exporter": "python",
      "pygments_lexer": "ipython3",
      "version": "3.8"
    }
  },
  "nbformat_minor": 4,
  "nbformat": 4,
  "cells": [
    {
      "cell_type": "code",
      "source": "dict={\n\"name\":\"keerthi\",\n\"dob\" :\"260707\",\n\"girl\":\"true\",\n\"list\":[\"1\",\"2\",\"3\"],\n}\nprint(dict)",
      "metadata": {
        "trusted": true
      },
      "outputs": [
        {
          "name": "stdout",
          "text": "{'name': 'keerthi', 'dob': '260707', 'girl': 'true', 'list': ['1', '2', '3']}\n",
          "output_type": "stream"
        }
      ],
      "execution_count": 5
    },
    {
      "cell_type": "code",
      "source": "dict={\n\"name\":\"keerthi\",\n\"dob\":\"260207\",\n\"girl\":\"true\",\n\"list\":['1','2','3','4'],\n}\nprint(len(dict))",
      "metadata": {
        "trusted": true
      },
      "outputs": [
        {
          "name": "stdout",
          "text": "4\n",
          "output_type": "stream"
        }
      ],
      "execution_count": 7
    },
    {
      "cell_type": "code",
      "source": "dict={\n\"name\":\"keerthi\",\n\"dob\":\"260207\",\n\"girl\":\"true\",\n\"list\":['1','2','3','4'],\n}\nprint(dict[\"name\"])",
      "metadata": {
        "trusted": true
      },
      "outputs": [
        {
          "name": "stdout",
          "text": "keerthi\n",
          "output_type": "stream"
        }
      ],
      "execution_count": 1
    },
    {
      "cell_type": "code",
      "source": "dict={\n\"name\":\"keerthi\",\n\"dob\":\"260207\",\n\"girl\":\"true\",\n\"list\":['1','2','3','4'],\n}\nx=dict.keys()\nprint(x)\ndict[\"color\"]= \" pink \"\nprint(x)",
      "metadata": {
        "trusted": true
      },
      "outputs": [
        {
          "name": "stdout",
          "text": "dict_keys(['name', 'dob', 'girl', 'list'])\ndict_keys(['name', 'dob', 'girl', 'list', 'color'])\n",
          "output_type": "stream"
        }
      ],
      "execution_count": 10
    },
    {
      "cell_type": "code",
      "source": "dict={\n\"name\":\"keerthi\",\n\"dob\":\"260207\",\n\"girl\":\"true\",\n\"list\":['1','2','3','4'],\n}\nx=dict.keys()\nprint(x)\ndict[\"chr\"]=\"good\"\nprint(x)",
      "metadata": {
        "trusted": true
      },
      "outputs": [
        {
          "name": "stdout",
          "text": "dict_keys(['name', 'dob', 'girl', 'list'])\ndict_keys(['name', 'dob', 'girl', 'list', 'chr'])\n",
          "output_type": "stream"
        }
      ],
      "execution_count": 12
    },
    {
      "cell_type": "code",
      "source": "dict={\n\"name\":\"keerthi\",\n\"dob\":\"260207\",\n\"girl\":\"true\",\n\"list\":['1','2','3','4'],\n}\nif \"name\" in dict:\n    print(\"yes\")",
      "metadata": {
        "trusted": true
      },
      "outputs": [
        {
          "name": "stdout",
          "text": "yes\n",
          "output_type": "stream"
        }
      ],
      "execution_count": 13
    },
    {
      "cell_type": "code",
      "source": "dict={\n\"name\":\"keerthi\",\n\"dob\":\"260207\",\n\"girl\":\"true\",\n\"list\":['1','2','3','4'],\n}\ndict.update({\"name\":\"mok\"})\nprint(dict)",
      "metadata": {
        "trusted": true
      },
      "outputs": [
        {
          "name": "stdout",
          "text": "{'name': 'mok', 'dob': '260207', 'girl': 'true', 'list': ['1', '2', '3', '4']}\n",
          "output_type": "stream"
        }
      ],
      "execution_count": 15
    },
    {
      "cell_type": "code",
      "source": "dict={\n\"name\":\"keerthi\",\n\"dob\":\"260207\",\n\"girl\":\"true\",\n\"list\":['1','2','3','4'],\n}\ndict.update({\"dob\":\"260207\"})\nprint(dict)",
      "metadata": {
        "trusted": true
      },
      "outputs": [
        {
          "name": "stdout",
          "text": "{'name': 'keerthi', 'dob': '260207', 'girl': 'true', 'list': ['1', '2', '3', '4']}\n",
          "output_type": "stream"
        }
      ],
      "execution_count": 18
    },
    {
      "cell_type": "code",
      "source": "dict={\n\"name\":\"keerthi\",\n\"dob\":\"260207\",\n\"girl\":\"true\",\n\"list\":['1','2','3','4'],\n}\ndict.pop(\"dob\")\nprint(dict)",
      "metadata": {
        "trusted": true
      },
      "outputs": [
        {
          "name": "stdout",
          "text": "{'name': 'keerthi', 'girl': 'true', 'list': ['1', '2', '3', '4']}\n",
          "output_type": "stream"
        }
      ],
      "execution_count": 19
    },
    {
      "cell_type": "code",
      "source": "dict={\n\"name\":\"keerthi\",\n\"dob\":\"260207\",\n\"girl\":\"true\",\n\"list\":['1','2','3','4'],\n}\ndict2=dict.copy()\nprint(dict2)",
      "metadata": {
        "trusted": true
      },
      "outputs": [
        {
          "name": "stdout",
          "text": "{'name': 'keerthi', 'dob': '260207', 'girl': 'true', 'list': ['1', '2', '3', '4']}\n",
          "output_type": "stream"
        }
      ],
      "execution_count": 20
    },
    {
      "cell_type": "code",
      "source": "myfamily={\nchild1:{\n\"name\":\"kee\",\n\"dob\":\"26\",\n},\nchild2:\n{\n\"name\":\"janu\",\n\"dob\":\"5\",\n},\nchild3:\n{\n\"name\":\"is\",\n\"dob\":\"23\",\n}\n}",
      "metadata": {
        "trusted": true
      },
      "outputs": [
        {
          "ename": "<class 'TypeError'>",
          "evalue": "unhashable type: 'dict'",
          "traceback": [
            "\u001b[0;31m---------------------------------------------------------------------------\u001b[0m",
            "\u001b[0;31mTypeError\u001b[0m                                 Traceback (most recent call last)",
            "Cell \u001b[0;32mIn[27], line 1\u001b[0m\n\u001b[0;32m----> 1\u001b[0m myfamily\u001b[38;5;241m=\u001b[39m{\n\u001b[1;32m      2\u001b[0m child1:{\n\u001b[1;32m      3\u001b[0m \u001b[38;5;124m\"\u001b[39m\u001b[38;5;124mname\u001b[39m\u001b[38;5;124m\"\u001b[39m:\u001b[38;5;124m\"\u001b[39m\u001b[38;5;124mkee\u001b[39m\u001b[38;5;124m\"\u001b[39m,\n\u001b[1;32m      4\u001b[0m \u001b[38;5;124m\"\u001b[39m\u001b[38;5;124mdob\u001b[39m\u001b[38;5;124m\"\u001b[39m:\u001b[38;5;124m\"\u001b[39m\u001b[38;5;124m26\u001b[39m\u001b[38;5;124m\"\u001b[39m,\n\u001b[1;32m      5\u001b[0m },\n\u001b[1;32m      6\u001b[0m child2:\n\u001b[1;32m      7\u001b[0m {\n\u001b[1;32m      8\u001b[0m \u001b[38;5;124m\"\u001b[39m\u001b[38;5;124mname\u001b[39m\u001b[38;5;124m\"\u001b[39m:\u001b[38;5;124m\"\u001b[39m\u001b[38;5;124mjanu\u001b[39m\u001b[38;5;124m\"\u001b[39m,\n\u001b[1;32m      9\u001b[0m \u001b[38;5;124m\"\u001b[39m\u001b[38;5;124mdob\u001b[39m\u001b[38;5;124m\"\u001b[39m:\u001b[38;5;124m\"\u001b[39m\u001b[38;5;124m5\u001b[39m\u001b[38;5;124m\"\u001b[39m,\n\u001b[1;32m     10\u001b[0m },\n\u001b[1;32m     11\u001b[0m child3:\n\u001b[1;32m     12\u001b[0m {\n\u001b[1;32m     13\u001b[0m \u001b[38;5;124m\"\u001b[39m\u001b[38;5;124mname\u001b[39m\u001b[38;5;124m\"\u001b[39m:\u001b[38;5;124m\"\u001b[39m\u001b[38;5;124mis\u001b[39m\u001b[38;5;124m\"\u001b[39m,\n\u001b[1;32m     14\u001b[0m \u001b[38;5;124m\"\u001b[39m\u001b[38;5;124mdob\u001b[39m\u001b[38;5;124m\"\u001b[39m:\u001b[38;5;124m\"\u001b[39m\u001b[38;5;124m23\u001b[39m\u001b[38;5;124m\"\u001b[39m,\n\u001b[1;32m     15\u001b[0m }\n\u001b[1;32m     16\u001b[0m }\n",
            "\u001b[0;31mTypeError\u001b[0m: unhashable type: 'dict'"
          ],
          "output_type": "error"
        }
      ],
      "execution_count": 27
    },
    {
      "cell_type": "code",
      "source": "",
      "metadata": {
        "trusted": true
      },
      "outputs": [],
      "execution_count": null
    },
    {
      "cell_type": "code",
      "source": "",
      "metadata": {
        "trusted": true
      },
      "outputs": [],
      "execution_count": null
    }
  ]
}