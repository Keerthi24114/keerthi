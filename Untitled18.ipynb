{
  "metadata": {
    "kernelspec": {
      "name": "python",
      "display_name": "Python (Pyodide)",
      "language": "python"
    },
    "language_info": {
      "codemirror_mode": {
        "name": "python",
        "version": 3
      },
      "file_extension": ".py",
      "mimetype": "text/x-python",
      "name": "python",
      "nbconvert_exporter": "python",
      "pygments_lexer": "ipython3",
      "version": "3.8"
    }
  },
  "nbformat_minor": 4,
  "nbformat": 4,
  "cells": [
    {
      "cell_type": "code",
      "source": "thistuple=(\"apple\",)\nprint(type(thistuple))\n",
      "metadata": {
        "trusted": true
      },
      "outputs": [
        {
          "name": "stdout",
          "text": "<class 'tuple'>\n",
          "output_type": "stream"
        }
      ],
      "execution_count": 4
    },
    {
      "cell_type": "code",
      "source": "thistuple=(\"apple\",\"banana\",\"green\",\"kiwi\",\"orange\")\nprint(len(thistuple))\n\n\n",
      "metadata": {
        "trusted": true
      },
      "outputs": [
        {
          "name": "stdout",
          "text": "5\n",
          "output_type": "stream"
        }
      ],
      "execution_count": 5
    },
    {
      "cell_type": "code",
      "source": "x=(\"apple\",\"banana\",\"green\",\"kiwi\",\"orange\")\ny=list(x)\ny[1]=\"kiwi\"\nx=tuple(y)\nprint(x)",
      "metadata": {
        "trusted": true
      },
      "outputs": [
        {
          "name": "stdout",
          "text": "('apple', 'kiwi', 'green', 'kiwi', 'orange')\n",
          "output_type": "stream"
        }
      ],
      "execution_count": 6
    },
    {
      "cell_type": "code",
      "source": "x=(\"apple\",\"banana\",\"green\",\"kiwi\",\"orange\")\ny=list(x)\ny[2:4]=[\"watermelon\",\"jackfruit\"]\nx=tuple(y)\nprint(x)",
      "metadata": {
        "trusted": true
      },
      "outputs": [
        {
          "name": "stdout",
          "text": "('apple', 'banana', 'watermelon', 'jackfruit', 'orange')\n",
          "output_type": "stream"
        }
      ],
      "execution_count": 7
    },
    {
      "cell_type": "code",
      "source": "x=(\"apple\",\"banana\",\"green\",\"kiwi\",\"orange\")\ny=list(x)\ny[1:2]=[\"watermelon\",\"jack\"]\nx=tuple(y)\nprint(x)",
      "metadata": {
        "trusted": true
      },
      "outputs": [
        {
          "name": "stdout",
          "text": "('apple', 'watermelon', 'jack', 'green', 'kiwi', 'orange')\n",
          "output_type": "stream"
        }
      ],
      "execution_count": 8
    },
    {
      "cell_type": "code",
      "source": "x=(\"apple\",\"banana\",\"green\",\"kiwi\",\"orange\")\ny=list(x)\ny[2:4]=[\"watermelon\"]\nx=tuple(y)\nprint(x)",
      "metadata": {
        "trusted": true
      },
      "outputs": [
        {
          "name": "stdout",
          "text": "('apple', 'banana', 'watermelon', 'orange')\n",
          "output_type": "stream"
        }
      ],
      "execution_count": 11
    },
    {
      "cell_type": "code",
      "source": "x=(\"apple\",\"banana\",\"green\",\"kiwi\",\"orange\")\ny=list(x)\ny.append(\"watermelon\")\nx=tuple(y)\nprint(x)\n",
      "metadata": {
        "trusted": true
      },
      "outputs": [
        {
          "name": "stdout",
          "text": "('apple', 'banana', 'green', 'kiwi', 'orange', 'watermelon')\n",
          "output_type": "stream"
        }
      ],
      "execution_count": 12
    },
    {
      "cell_type": "code",
      "source": "x=(\"apple\",\"banana\",\"green\",\"kiwi\",\"orange\")\ny=list(x)\ny.pop(1)\nx=tuple(y)\nprint(x)",
      "metadata": {
        "trusted": true
      },
      "outputs": [
        {
          "name": "stdout",
          "text": "('apple', 'green', 'kiwi', 'orange')\n",
          "output_type": "stream"
        }
      ],
      "execution_count": 17
    },
    {
      "cell_type": "code",
      "source": "x=(\"apple\",\"banana\",\"green\",\"kiwi\",\"orange\")\n(red,green,*black)=x\nprint(green)\nprint(red)\nprint(black)",
      "metadata": {
        "trusted": true
      },
      "outputs": [
        {
          "name": "stdout",
          "text": "banana\napple\n['green', 'kiwi', 'orange']\n",
          "output_type": "stream"
        }
      ],
      "execution_count": 20
    },
    {
      "cell_type": "code",
      "source": "x=(\"apple\",\"banana\",\"green\",\"kiwi\",\"orange\")\nfor i in range(len(x)):\n    print(x[i])",
      "metadata": {
        "trusted": true
      },
      "outputs": [
        {
          "name": "stdout",
          "text": "apple\nbanana\ngreen\nkiwi\norange\n",
          "output_type": "stream"
        }
      ],
      "execution_count": 22
    },
    {
      "cell_type": "code",
      "source": "x=(\"apple\",\"banana\",\"green\",\"kiwi\",\"orange\")\ni=0\nwhile i<len(x):\n    print(x[i])\n    i=i+1",
      "metadata": {
        "trusted": true
      },
      "outputs": [
        {
          "name": "stdout",
          "text": "apple\nbanana\ngreen\nkiwi\norange\n",
          "output_type": "stream"
        }
      ],
      "execution_count": 23
    },
    {
      "cell_type": "code",
      "source": "x=(\"apple\",\"banana\",\"green\",\"kiwi\",\"orange\")\ny=(\"ape\",\"ban\",\"grn\",\"ki\",\"ora\")\nz=x+y\nprint(z)",
      "metadata": {
        "trusted": true
      },
      "outputs": [
        {
          "name": "stdout",
          "text": "('apple', 'banana', 'green', 'kiwi', 'orange', 'ape', 'ban', 'grn', 'ki', 'ora')\n",
          "output_type": "stream"
        }
      ],
      "execution_count": 25
    },
    {
      "cell_type": "code",
      "source": "x=(\"apple\",\"banana\",\"green\",\"kiwi\",\"orange\")\nprint(x*3)",
      "metadata": {
        "trusted": true
      },
      "outputs": [
        {
          "name": "stdout",
          "text": "('apple', 'banana', 'green', 'kiwi', 'orange', 'apple', 'banana', 'green', 'kiwi', 'orange', 'apple', 'banana', 'green', 'kiwi', 'orange')\n",
          "output_type": "stream"
        }
      ],
      "execution_count": 27
    },
    {
      "cell_type": "code",
      "source": "x={\"apple\",\"banana\",\"green\",\"kiwi\",\"orange\"}\ny={\"ape\",\"ban\",\"grn\",\"ki\",\"ora\"}\nx.update(y)\nprint(x)",
      "metadata": {
        "trusted": true
      },
      "outputs": [
        {
          "name": "stdout",
          "text": "{'banana', 'ban', 'ape', 'ki', 'green', 'apple', 'kiwi', 'ora', 'orange', 'grn'}\n",
          "output_type": "stream"
        }
      ],
      "execution_count": 30
    },
    {
      "cell_type": "code",
      "source": "y={\"ape\",\"ban\",\"grn\",\"ki\",\"ora\"}\ny.add(\"dee\")\nprint(y)",
      "metadata": {
        "trusted": true
      },
      "outputs": [
        {
          "name": "stdout",
          "text": "{'ban', 'ape', 'dee', 'ora', 'ki', 'grn'}\n",
          "output_type": "stream"
        }
      ],
      "execution_count": 32
    },
    {
      "cell_type": "code",
      "source": "y={\"ape\",\"ban\",\"grn\",\"ki\",\"ora\"}\ny.remove(\"ban\")\nprint(y)\n",
      "metadata": {
        "trusted": true
      },
      "outputs": [
        {
          "name": "stdout",
          "text": "{'ape', 'ora', 'ki', 'grn'}\n",
          "output_type": "stream"
        }
      ],
      "execution_count": 34
    },
    {
      "cell_type": "code",
      "source": "y={\"ape\",\"ban\",\"grn\",\"ki\",\"ora\"}\ny.pop()\nprint(y)",
      "metadata": {
        "trusted": true
      },
      "outputs": [
        {
          "name": "stdout",
          "text": "{'ape', 'ora', 'ki', 'grn'}\n",
          "output_type": "stream"
        }
      ],
      "execution_count": 39
    },
    {
      "cell_type": "code",
      "source": "y={\"ape\",\"ban\",\"grn\",\"ki\",\"ora\"}\ny.clear()\nprint(y)",
      "metadata": {
        "trusted": true
      },
      "outputs": [
        {
          "name": "stdout",
          "text": "set()\n",
          "output_type": "stream"
        }
      ],
      "execution_count": 40
    },
    {
      "cell_type": "code",
      "source": "y=(\"ape\",\"ban\",\"grn\",\"ki\",\"ora\")\ndel y\nprint(y)",
      "metadata": {
        "trusted": true
      },
      "outputs": [
        {
          "ename": "<class 'NameError'>",
          "evalue": "name 'y' is not defined",
          "traceback": [
            "\u001b[0;31m---------------------------------------------------------------------------\u001b[0m",
            "\u001b[0;31mNameError\u001b[0m                                 Traceback (most recent call last)",
            "Cell \u001b[0;32mIn[42], line 3\u001b[0m\n\u001b[1;32m      1\u001b[0m y\u001b[38;5;241m=\u001b[39m(\u001b[38;5;124m\"\u001b[39m\u001b[38;5;124mape\u001b[39m\u001b[38;5;124m\"\u001b[39m,\u001b[38;5;124m\"\u001b[39m\u001b[38;5;124mban\u001b[39m\u001b[38;5;124m\"\u001b[39m,\u001b[38;5;124m\"\u001b[39m\u001b[38;5;124mgrn\u001b[39m\u001b[38;5;124m\"\u001b[39m,\u001b[38;5;124m\"\u001b[39m\u001b[38;5;124mki\u001b[39m\u001b[38;5;124m\"\u001b[39m,\u001b[38;5;124m\"\u001b[39m\u001b[38;5;124mora\u001b[39m\u001b[38;5;124m\"\u001b[39m)\n\u001b[1;32m      2\u001b[0m \u001b[38;5;28;01mdel\u001b[39;00m y\n\u001b[0;32m----> 3\u001b[0m \u001b[38;5;28mprint\u001b[39m(\u001b[43my\u001b[49m)\n",
            "\u001b[0;31mNameError\u001b[0m: name 'y' is not defined"
          ],
          "output_type": "error"
        }
      ],
      "execution_count": 42
    },
    {
      "cell_type": "code",
      "source": "set1={\"a\",\"b\",\"c\",\"d\"}\nset2={\"1\",\"b\",\"c\",\"4\"}\nset3=set1.union(set2)\nprint(set3)",
      "metadata": {
        "trusted": true
      },
      "outputs": [
        {
          "name": "stdout",
          "text": "{'c', 'b', 'a', 'd', '1', '4'}\n",
          "output_type": "stream"
        }
      ],
      "execution_count": 50
    },
    {
      "cell_type": "code",
      "source": "set1={\"a\",\"b\",\"c\",\"d\"}\nset2={\"a\",\"2\",\"3\",\"d\"}\nset3=set1.intersection(set2)\nprint(set3)",
      "metadata": {
        "trusted": true
      },
      "outputs": [
        {
          "name": "stdout",
          "text": "{'a', 'd'}\n",
          "output_type": "stream"
        }
      ],
      "execution_count": 47
    },
    {
      "cell_type": "code",
      "source": "set1={\"a\",\"b\",\"c\",\"d\"}\nset2={\"a\",\"2\",\"3\",\"d\"}\nset3=set1.difference(set2)\nprint(set3)",
      "metadata": {
        "trusted": true
      },
      "outputs": [
        {
          "name": "stdout",
          "text": "{'c', 'b'}\n",
          "output_type": "stream"
        }
      ],
      "execution_count": 48
    },
    {
      "cell_type": "code",
      "source": "set1={\"a\",\"b\",\"c\",\"d\"}\nset2={\"a\",\"2\",\"3\",\"d\"}\nset3=set1.symmetric_difference(set2)\nprint(set3)",
      "metadata": {
        "trusted": true
      },
      "outputs": [
        {
          "name": "stdout",
          "text": "{'c', 'b', '3', '2'}\n",
          "output_type": "stream"
        }
      ],
      "execution_count": 49
    },
    {
      "cell_type": "code",
      "source": "set1={\"a\",\"b\",\"c\",\"d\"}\nset2={\"a\",\"2\",\"3\",\"d\"}\nset3=set1 & set2\nprint(set3)",
      "metadata": {
        "trusted": true
      },
      "outputs": [
        {
          "name": "stdout",
          "text": "{'a', 'd'}\n",
          "output_type": "stream"
        }
      ],
      "execution_count": 51
    },
    {
      "cell_type": "code",
      "source": "set1={\"a\",\"b\",\"c\",\"d\"}\nset2={\"a\",\"2\",\"3\",\"d\"}\nset1.symmetric_difference_update(set2)\nprint(set1)",
      "metadata": {
        "trusted": true
      },
      "outputs": [
        {
          "name": "stdout",
          "text": "{'c', 'b', '3', '2'}\n",
          "output_type": "stream"
        }
      ],
      "execution_count": 52
    },
    {
      "cell_type": "code",
      "source": "set1={\"a\",\"b\",\"c\",\"d\"}\nset2={\"a\",\"2\",\"3\",\"d\"}\nset1.difference_update(set2)\nprint(set1)",
      "metadata": {
        "trusted": true
      },
      "outputs": [
        {
          "name": "stdout",
          "text": "{'c', 'b'}\n",
          "output_type": "stream"
        }
      ],
      "execution_count": 53
    },
    {
      "cell_type": "code",
      "source": "set1={\"a\",\"b\",\"c\",\"d\"}\nset2={\"a\",\"2\",\"3\",\"d\"}\nset1.intersection_update(set2)\nprint(set1)",
      "metadata": {
        "trusted": true
      },
      "outputs": [
        {
          "name": "stdout",
          "text": "{'a', 'd'}\n",
          "output_type": "stream"
        }
      ],
      "execution_count": 56
    },
    {
      "cell_type": "code",
      "source": "set1={\"a\",\"b\",\"c\",\"d\"}\nset1.add(\"v\")\nprint(set1)",
      "metadata": {
        "trusted": true
      },
      "outputs": [
        {
          "name": "stdout",
          "text": "{'c', 'b', 'a', 'd', 'v'}\n",
          "output_type": "stream"
        }
      ],
      "execution_count": 3
    },
    {
      "cell_type": "code",
      "source": "set1={\"a\",\"b\",\"c\",\"d\"}\nset1.clear()\nprint(set1)",
      "metadata": {
        "trusted": true
      },
      "outputs": [
        {
          "name": "stdout",
          "text": "set()\n",
          "output_type": "stream"
        }
      ],
      "execution_count": 5
    },
    {
      "cell_type": "code",
      "source": "",
      "metadata": {
        "trusted": true
      },
      "outputs": [],
      "execution_count": null
    }
  ]
}