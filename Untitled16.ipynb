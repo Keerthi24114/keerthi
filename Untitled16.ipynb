{
  "metadata": {
    "kernelspec": {
      "name": "python",
      "display_name": "Python (Pyodide)",
      "language": "python"
    },
    "language_info": {
      "codemirror_mode": {
        "name": "python",
        "version": 3
      },
      "file_extension": ".py",
      "mimetype": "text/x-python",
      "name": "python",
      "nbconvert_exporter": "python",
      "pygments_lexer": "ipython3",
      "version": "3.8"
    }
  },
  "nbformat_minor": 4,
  "nbformat": 4,
  "cells": [
    {
      "cell_type": "code",
      "source": "pos = -1\n\ndef search(lst, n):\n    i = 0\n    while i < len(lst):\n        if lst[i] == n:\n            globals()['pos'] = i  # Updates the global `pos`\n            return True\n        i += 1\n    return False\n\nlst = [5, 8, 4, 6, 9, 2]\nn = 10\n\nif search(lst, n):\n    print(\"found at position\", pos + 1)\nelse:\n    print(\"not found\")\n",
      "metadata": {
        "trusted": true
      },
      "outputs": [
        {
          "name": "stdout",
          "text": "not found\n",
          "output_type": "stream"
        }
      ],
      "execution_count": 2
    },
    {
      "cell_type": "code",
      "source": "pos=-1\ndef search(list,n):\n    i=0\n    while i<len(list):\n        globals()[\"pos\"]=i\n        if list[i]==n:\n            return True\n        i=i+1        \n    else:\n        return False\nlist=[1,2,3,4,5]\nn=4\nif search(list,n):\n    print(\"found at\",pos+1)\nelse:\n    print(\"not found\")\n            ",
      "metadata": {
        "trusted": true
      },
      "outputs": [
        {
          "name": "stdout",
          "text": "found at 4\n",
          "output_type": "stream"
        }
      ],
      "execution_count": 12
    },
    {
      "cell_type": "code",
      "source": "",
      "metadata": {
        "trusted": true
      },
      "outputs": [],
      "execution_count": null
    }
  ]
}