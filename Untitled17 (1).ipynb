{
  "metadata": {
    "kernelspec": {
      "name": "python",
      "display_name": "Python (Pyodide)",
      "language": "python"
    },
    "language_info": {
      "codemirror_mode": {
        "name": "python",
        "version": 3
      },
      "file_extension": ".py",
      "mimetype": "text/x-python",
      "name": "python",
      "nbconvert_exporter": "python",
      "pygments_lexer": "ipython3",
      "version": "3.8"
    }
  },
  "nbformat_minor": 4,
  "nbformat": 4,
  "cells": [
    {
      "cell_type": "code",
      "source": "mylist=['apple','banana','kiwi','orange','mango','jack']\nprint(mylist[-1])",
      "metadata": {
        "trusted": true
      },
      "outputs": [
        {
          "name": "stdout",
          "text": "jack\n",
          "output_type": "stream"
        }
      ],
      "execution_count": 3
    },
    {
      "cell_type": "code",
      "source": "mylist=['apple','banana','kiwi','orange','mango','jack']\nprint(mylist[:3])\nprint(mylist[2:5])\nprint(mylist[1:])",
      "metadata": {
        "trusted": true
      },
      "outputs": [
        {
          "name": "stdout",
          "text": "['apple', 'banana', 'kiwi']\n['kiwi', 'orange', 'mango']\n['banana', 'kiwi', 'orange', 'mango', 'jack']\n",
          "output_type": "stream"
        }
      ],
      "execution_count": 6
    },
    {
      "cell_type": "code",
      "source": "mylist=['apple','banana','kiwi','orange','mango','jack']\nprint(mylist[-4:-1])",
      "metadata": {
        "trusted": true
      },
      "outputs": [
        {
          "name": "stdout",
          "text": "['kiwi', 'orange', 'mango']\n",
          "output_type": "stream"
        }
      ],
      "execution_count": 9
    },
    {
      "cell_type": "code",
      "source": "mylist=['apple','banana','kiwi','orange','mango','jack']\nif 'jack friut' in mylist:\n    print(\"yes\")\nelse:\n    print(\"no\")\n\n",
      "metadata": {
        "trusted": true
      },
      "outputs": [
        {
          "name": "stdout",
          "text": "no\n",
          "output_type": "stream"
        }
      ],
      "execution_count": 14
    },
    {
      "cell_type": "code",
      "source": "thislist = [\"apple\", \"banana\", \"cherry\", \"orange\", \"kiwi\", \"mango\"]\nthislist[1:3] = [\"blackcurrant\", \"watermelon\"]\nprint(thislist)",
      "metadata": {
        "trusted": true
      },
      "outputs": [
        {
          "name": "stdout",
          "text": "['apple', 'blackcurrant', 'watermelon', 'orange', 'kiwi', 'mango']\n",
          "output_type": "stream"
        }
      ],
      "execution_count": 27
    },
    {
      "cell_type": "code",
      "source": "mylist=[\"keer\",\"mok\",\"sreeja\",\"ashu\",\"mok\",\"mano\"]\nmylist[0:2]=[\"janu\",\"nandu\"]\nprint(mylist)",
      "metadata": {
        "trusted": true
      },
      "outputs": [
        {
          "name": "stdout",
          "text": "['janu', 'nandu', 'sreeja', 'ashu', 'mok', 'mano']\n",
          "output_type": "stream"
        }
      ],
      "execution_count": 49
    },
    {
      "cell_type": "code",
      "source": "thislist = [\"apple\", \"banana\", \"cherry\", \"orange\", \"kiwi\", \"mango\"]\nthislist[1]=\"apple\"\nprint(thislist)",
      "metadata": {
        "trusted": true
      },
      "outputs": [
        {
          "name": "stdout",
          "text": "['apple', 'apple', 'cherry', 'orange', 'kiwi', 'mango']\n",
          "output_type": "stream"
        }
      ],
      "execution_count": 29
    },
    {
      "cell_type": "code",
      "source": "thislist = [\"apple\", \"banana\", \"cherry\", \"orange\", \"kiwi\", \"mango\"]\nthislist[1:2] = [\"blackcurrant\", \"watermelon\"]\nprint(thislist)\n\n",
      "metadata": {
        "trusted": true
      },
      "outputs": [
        {
          "name": "stdout",
          "text": "['apple', 'blackcurrant', 'watermelon', 'cherry', 'orange', 'kiwi', 'mango']\n",
          "output_type": "stream"
        }
      ],
      "execution_count": 33
    },
    {
      "cell_type": "code",
      "source": "thislist = [\"apple\", \"banana\", \"cherry\", \"orange\", \"kiwi\", \"mango\"]\nthislist[1:3] = [\"watermelon\"]\nprint(thislist)",
      "metadata": {
        "trusted": true
      },
      "outputs": [
        {
          "name": "stdout",
          "text": "['apple', 'watermelon', 'orange', 'kiwi', 'mango']\n",
          "output_type": "stream"
        }
      ],
      "execution_count": 34
    },
    {
      "cell_type": "code",
      "source": "thislist = [\"apple\", \"banana\", \"cherry\", \"orange\", \"kiwi\", \"mango\"]\n\nthislist[1:2] = [\"blackcurrant\", \"watermelon\"]\n\nprint(thislist)",
      "metadata": {
        "trusted": true
      },
      "outputs": [
        {
          "name": "stdout",
          "text": "['apple', 'blackcurrant', 'watermelon', 'cherry', 'orange', 'kiwi', 'mango']\n",
          "output_type": "stream"
        }
      ],
      "execution_count": 36
    },
    {
      "cell_type": "code",
      "source": "thislist = [\"apple\", \"banana\", \"cherry\", \"orange\", \"kiwi\", \"mango\"]\nthislist.insert(2,\"watermelon\")\nprint(thislist)",
      "metadata": {
        "trusted": true
      },
      "outputs": [
        {
          "name": "stdout",
          "text": "['apple', 'banana', 'watermelon', 'cherry', 'orange', 'kiwi', 'mango']\n",
          "output_type": "stream"
        }
      ],
      "execution_count": 37
    },
    {
      "cell_type": "code",
      "source": "thislist = [\"apple\", \"banana\", \"cherry\", \"orange\", \"kiwi\", \"mango\"]\nthislist.append(\"watermelon\")\nprint(thislist)",
      "metadata": {
        "trusted": true
      },
      "outputs": [
        {
          "name": "stdout",
          "text": "['apple', 'banana', 'cherry', 'orange', 'kiwi', 'mango', 'watermelon']\n",
          "output_type": "stream"
        }
      ],
      "execution_count": 43
    },
    {
      "cell_type": "code",
      "source": "thislist=[\"apple\",\"banana\",\"green\",\"kiwi\",\"orange\"]\nlist=[\"1\",\"3\",\"4\",\"5\"]\nthislist.extend(list)\nprint(thislist)\n",
      "metadata": {
        "trusted": true
      },
      "outputs": [
        {
          "name": "stdout",
          "text": "['apple', 'banana', 'green', 'kiwi', 'orange', '1', '3', '4', '5']\n",
          "output_type": "stream"
        }
      ],
      "execution_count": 48
    },
    {
      "cell_type": "code",
      "source": "thislist=[\"apple\",\"banana\",\"green\",\"kiwi\",\"orange\"]\nlist=[\"1\",\"3\",\"4\",\"5\"]\nthislist.extend(list)\nprint(thislist)",
      "metadata": {
        "trusted": true
      },
      "outputs": [
        {
          "name": "stdout",
          "text": "['apple', 'banana', 'green', 'kiwi', 'orange', '1', '3', '4', '5']\n",
          "output_type": "stream"
        }
      ],
      "execution_count": 51
    },
    {
      "cell_type": "code",
      "source": "thislist=[\"apple\",\"banana\",\"green\",\"kiwi\",\"orange\"]\nthistuple=(\"jack\",\"friut\")\nthislist.extend(thistuple)\nprint(thislist)",
      "metadata": {
        "trusted": true
      },
      "outputs": [
        {
          "name": "stdout",
          "text": "['apple', 'banana', 'green', 'kiwi', 'orange', 'jack', 'friut']\n",
          "output_type": "stream"
        }
      ],
      "execution_count": 54
    },
    {
      "cell_type": "code",
      "source": "thislist=[\"apple\",\"banana\",\"green\",\"kiwi\",\"orange\"]\nthislist.remove(\"banana\")\nprint(thislist)",
      "metadata": {
        "trusted": true
      },
      "outputs": [
        {
          "name": "stdout",
          "text": "['apple', 'green', 'kiwi', 'orange']\n",
          "output_type": "stream"
        }
      ],
      "execution_count": 1
    },
    {
      "cell_type": "code",
      "source": "thislist=[\"apple\",\"banana\",\"green\",\"kiwi\",\"orange\"]\nthislist.pop(1)\nprint(thislist)",
      "metadata": {
        "trusted": true
      },
      "outputs": [
        {
          "name": "stdout",
          "text": "['apple', 'green', 'kiwi', 'orange']\n",
          "output_type": "stream"
        }
      ],
      "execution_count": 2
    },
    {
      "cell_type": "code",
      "source": "thislist=[\"apple\",\"banana\",\"green\",\"kiwi\",\"orange\"]\ndel thislist[1]\nprint(thislist)",
      "metadata": {
        "trusted": true
      },
      "outputs": [
        {
          "name": "stdout",
          "text": "['apple', 'green', 'kiwi', 'orange']\n",
          "output_type": "stream"
        }
      ],
      "execution_count": 3
    },
    {
      "cell_type": "code",
      "source": "thislist=[\"apple\",\"banana\",\"green\",\"kiwi\",\"orange\"]\nthislist.pop()\nprint(thislist)",
      "metadata": {
        "trusted": true
      },
      "outputs": [
        {
          "name": "stdout",
          "text": "['apple', 'banana', 'green', 'kiwi']\n",
          "output_type": "stream"
        }
      ],
      "execution_count": 5
    },
    {
      "cell_type": "code",
      "source": "thislist=[\"apple\",\"banana\",\"green\",\"kiwi\",\"orange\"]\ndel thislist",
      "metadata": {
        "trusted": true
      },
      "outputs": [],
      "execution_count": 6
    },
    {
      "cell_type": "code",
      "source": "thislist=[\"apple\",\"banana\",\"green\",\"kiwi\",\"orange\"]\nfor x in thislist:\n    print(x)",
      "metadata": {
        "trusted": true
      },
      "outputs": [
        {
          "name": "stdout",
          "text": "apple\nbanana\ngreen\nkiwi\norange\n",
          "output_type": "stream"
        }
      ],
      "execution_count": 7
    },
    {
      "cell_type": "code",
      "source": "thislist=[\"apple\",\"banana\",\"green\",\"kiwi\",\"orange\"]\nfor i in range(len(thislist)):\n    print(thislist[i])",
      "metadata": {
        "trusted": true
      },
      "outputs": [
        {
          "name": "stdout",
          "text": "apple\nbanana\ngreen\nkiwi\norange\n",
          "output_type": "stream"
        }
      ],
      "execution_count": 8
    },
    {
      "cell_type": "code",
      "source": "thislist=[\"apple\",\"banana\",\"green\",\"kiwi\",\"orange\"]\ni=0\nwhile i<len(thislist):\n    print(thislist[i])\n    i=i+1\n",
      "metadata": {
        "trusted": true
      },
      "outputs": [
        {
          "name": "stdout",
          "text": "apple\nbanana\ngreen\nkiwi\norange\n",
          "output_type": "stream"
        }
      ],
      "execution_count": 13
    },
    {
      "cell_type": "code",
      "source": "thislist=[\"apple\",\"banana\",\"zreen\",\"kiwi\",\"orange\"]\nthislist.sort()\nprint(thislist)",
      "metadata": {
        "trusted": true
      },
      "outputs": [
        {
          "name": "stdout",
          "text": "['apple', 'banana', 'kiwi', 'orange', 'zreen']\n",
          "output_type": "stream"
        }
      ],
      "execution_count": 15
    },
    {
      "cell_type": "code",
      "source": "thislist=[\"apple\",\"banana\",\"zreen\",\"kiwi\",\"orange\"]\nthislist.sort(reverse=True)\nprint(thislist)",
      "metadata": {
        "trusted": true
      },
      "outputs": [
        {
          "name": "stdout",
          "text": "['zreen', 'orange', 'kiwi', 'banana', 'apple']\n",
          "output_type": "stream"
        }
      ],
      "execution_count": 17
    },
    {
      "cell_type": "code",
      "source": "thislist=[\"1\",\"2\",\"6\",\"5,10\"]\nthislist.sort()\nprint(thislist)",
      "metadata": {
        "trusted": true
      },
      "outputs": [
        {
          "name": "stdout",
          "text": "['1', '2', '5,10', '6']\n",
          "output_type": "stream"
        }
      ],
      "execution_count": 20
    },
    {
      "cell_type": "code",
      "source": "thislist=[\"apple\",\"banana\",\"green\",\"kiwi\",\"orange\"]\nthislist.reverse()\nprint(thislist)",
      "metadata": {
        "trusted": true
      },
      "outputs": [
        {
          "name": "stdout",
          "text": "['orange', 'kiwi', 'green', 'banana', 'apple']\n",
          "output_type": "stream"
        }
      ],
      "execution_count": 22
    },
    {
      "cell_type": "code",
      "source": "thislist=[\"apple\",\"banana\",\"green\",\"kiwi\",\"orange\"]\nmylist=thislist.copy()\nprint(mylist)",
      "metadata": {
        "trusted": true
      },
      "outputs": [
        {
          "name": "stdout",
          "text": "['apple', 'banana', 'green', 'kiwi', 'orange']\n",
          "output_type": "stream"
        }
      ],
      "execution_count": 23
    },
    {
      "cell_type": "code",
      "source": "thislist=[\"apple\",\"banana\",\"green\",\"kiwi\",\"orange\"]\nnewlist=thislist[:]\nprint(newlist)",
      "metadata": {
        "trusted": true
      },
      "outputs": [
        {
          "name": "stdout",
          "text": "['apple', 'banana', 'green', 'kiwi', 'orange']\n",
          "output_type": "stream"
        }
      ],
      "execution_count": 24
    },
    {
      "cell_type": "code",
      "source": "thislist=[\"apple\",\"banana\",\"green\",\"kiwi\",\"orange\"]\nthislist2=[\"apple\",\"banana\",\"green\",\"kiwi\",\"orange\"]\nx=thislist+thislist2\nprint(x)\n",
      "metadata": {
        "trusted": true
      },
      "outputs": [
        {
          "name": "stdout",
          "text": "['apple', 'banana', 'green', 'kiwi', 'orange', 'apple', 'banana', 'green', 'kiwi', 'orange']\n",
          "output_type": "stream"
        }
      ],
      "execution_count": 26
    },
    {
      "cell_type": "code",
      "source": "thislist=[\"apple\",\"banana\",\"green\",\"kiwi\",\"orange\"]\nthislist2=[\"apple\",\"banana\",\"green\",\"kiwi\",\"orange\"]\nthislist.extend(thislist2)\nprint(thislist)",
      "metadata": {
        "trusted": true
      },
      "outputs": [
        {
          "name": "stdout",
          "text": "['apple', 'banana', 'green', 'kiwi', 'orange', 'apple', 'banana', 'green', 'kiwi', 'orange']\n",
          "output_type": "stream"
        }
      ],
      "execution_count": 27
    },
    {
      "cell_type": "code",
      "source": "",
      "metadata": {
        "trusted": true
      },
      "outputs": [],
      "execution_count": null
    },
    {
      "cell_type": "code",
      "source": "",
      "metadata": {
        "trusted": true
      },
      "outputs": [],
      "execution_count": null
    }
  ]
}